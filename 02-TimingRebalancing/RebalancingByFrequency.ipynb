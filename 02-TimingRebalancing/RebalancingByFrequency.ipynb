{
 "cells": [
  {
   "cell_type": "markdown",
   "metadata": {},
   "source": [
    "# Rebalancing a portfolio (Fixed Weights, By Time Period)\n",
    "\n",
    "Going on with the topic of passive investing and analyses with python, the objective of this code is to compute the historical performance of a porfolio with a given assets, weights and frequency to rebalance.\n",
    "\n",
    "### Importing the libraries and defining the Portfolio"
   ]
  },
  {
   "cell_type": "code",
   "execution_count": 89,
   "metadata": {},
   "outputs": [],
   "source": [
    "import yfinance as yf\n",
    "import pandas as pd\n",
    "import numpy as np\n",
    "\n",
    "# Dictionary with the asset classes and the chosen etfs to represent them in our portfolio\n",
    "securities = {\n",
    "    'US_Stocks' : ['IVV', 0.5],\n",
    "    'Bonds' : ['AGG', 0.3],\n",
    "    'TIPs' : ['TIP', 0.2],\n",
    "}"
   ]
  },
  {
   "cell_type": "markdown",
   "metadata": {},
   "source": [
    "### Defining the main function\n",
    "\n",
    "Here we have the function that will calculate the historical performance of the portfolio, and it has two functions to auxiliate itself. "
   ]
  },
  {
   "cell_type": "code",
   "execution_count": 93,
   "metadata": {},
   "outputs": [],
   "source": [
    "def backtesting(securities, freq = \"M\"):\n",
    "    '''\n",
    "    Based in chosen securities with respectives weights and a frequency to rebalance\n",
    "    we compute the historical performance of a portfolio\n",
    "    '''\n",
    "    def getSecurityData(portfolio):\n",
    "        '''\n",
    "        The function gets a dictionary as input and calculates the historical return of the securities chosen\n",
    "        '''\n",
    "        basket_returns = []\n",
    "\n",
    "        for asset in portfolio.items():\n",
    "            security = yf.Ticker(asset[1][0]).history(period=\"max\")\n",
    "            returns = security['Close'].pct_change().dropna()\n",
    "            weight = asset[1][1]\n",
    "            basket_returns.append(returns)\n",
    "\n",
    "        hist_returns = pd.concat(basket_returns, 1)\n",
    "        hist_returns = hist_returns.dropna()\n",
    "        hist_returns.columns = portfolio.keys()\n",
    "\n",
    "        return hist_returns\n",
    "    \n",
    "    def creatingIndex(dates, frequency = 'm'):\n",
    "        '''\n",
    "        It creates a list with booleans indicating when to rebalance\n",
    "        '''\n",
    "        last_month = None\n",
    "        index = []\n",
    "        for i in dates.index:\n",
    "            month = str(i.to_period(frequency))\n",
    "            if month != last_month:\n",
    "                index.append(True)\n",
    "            else: \n",
    "                index.append(False)\n",
    "            last_month = month\n",
    "\n",
    "        return index\n",
    "    \n",
    "    data = getSecurityData(securities)\n",
    "    index = creatingIndex(data, freq)\n",
    "    weights = np.array([securities[i][1] for i in securities])\n",
    "    tot_assets = 1000\n",
    "    \n",
    "    historic = []\n",
    "    data = getSecurityData(securities)\n",
    "    prev_assets = tot_assets * weights\n",
    "    \n",
    "    for i in range(data.shape[0]):\n",
    "        ind_return = (data.iloc[i]+1)\n",
    "        if index[i]:\n",
    "            tot_assets = prev_assets.sum()\n",
    "            prev_assets = tot_assets * weights * ind_return\n",
    "        else:\n",
    "            prev_assets = prev_assets * ind_return\n",
    "        historic.append(prev_assets)\n",
    "    \n",
    "    port = pd.DataFrame(historic, index = data.index, columns = data.columns).sum(axis = 1)\n",
    "    \n",
    "    return port"
   ]
  },
  {
   "cell_type": "markdown",
   "metadata": {},
   "source": [
    "### Calling the function\n",
    "\n",
    "We call the function asking for rebalance every quarter and plot to see how it worked"
   ]
  },
  {
   "cell_type": "code",
   "execution_count": 112,
   "metadata": {},
   "outputs": [
    {
     "name": "stderr",
     "output_type": "stream",
     "text": [
      "<ipython-input-112-6292b20f201a>:5: UserWarning: FixedFormatter should only be used together with FixedLocator\n",
      "  yaxis = plot.set_yticklabels(['{:,.2%}'.format(x) for x in vals])\n"
     ]
    },
    {
     "data": {
      "text/plain": [
       "<AxesSubplot:title={'center':'Quarterly Rebalance Portfolio'}, xlabel='Date'>"
      ]
     },
     "execution_count": 112,
     "metadata": {},
     "output_type": "execute_result"
    },
    {
     "data": {
      "image/png": "[encoded data removed]",
      "text/plain": [
       "<Figure size 432x288 with 1 Axes>"
      ]
     },
     "metadata": {
      "needs_background": "light"
     },
     "output_type": "display_data"
    }
   ],
   "source": [
    "returns = backtesting(securities, 'q').pct_change()\n",
    "ind_returns = (returns+1).cumprod()-1\n",
    "plot = ind_returns.plot(title = \"Quarterly Rebalance Portfolio\")\n",
    "vals = plot.get_yticks()\n",
    "yaxis = plot.set_yticklabels(['{:,.2%}'.format(x) for x in vals])\n",
    "plot"
   ]
  },
  {
   "cell_type": "code",
   "execution_count": null,
   "metadata": {},
   "outputs": [],
   "source": []
  }
 ],
 "metadata": {
  "kernelspec": {
   "display_name": "Python 3",
   "language": "python",
   "name": "python3"
  },
  "language_info": {
   "codemirror_mode": {
    "name": "ipython",
    "version": 3
   },
   "file_extension": ".py",
   "mimetype": "text/x-python",
   "name": "python",
   "nbconvert_exporter": "python",
   "pygments_lexer": "ipython3",
   "version": "3.8.5"
  }
 },
 "nbformat": 4,
 "nbformat_minor": 4
}
