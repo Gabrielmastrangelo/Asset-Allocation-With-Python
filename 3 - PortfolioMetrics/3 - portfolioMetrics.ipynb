{
 "cells": [
  {
   "cell_type": "markdown",
   "metadata": {},
   "source": [
    "# Computing Portfolio Metrics with Python\n",
    "\n",
    "We are going to start with two very simple ones, return and volatility (standard deviation). </br>\n",
    "***Important***: We will use the historical volatility, but it is not uncommon for professionals to work with forecasted volatility (using ARIMA, GARCH models) or even working with implied volatility (extracting it for the asset's options)\n",
    "\n",
    "### Calling the Libraries"
   ]
  },
  {
   "cell_type": "code",
   "execution_count": 1,
   "metadata": {},
   "outputs": [],
   "source": [
    "import yfinance as yf\n",
    "import pandas as pd\n",
    "import numpy as np"
   ]
  },
  {
   "cell_type": "markdown",
   "metadata": {},
   "source": [
    "### Getting the data\n",
    "\n",
    "First let's compile some data to analyse. We will use ETFs to reflect some assets classes historical performance\n",
    "\n",
    "| Ticker | Asset Class |\n",
    "|:-:|:-:|\n",
    "| AGG | Bonds |\n",
    "| GLD | Gold |\n",
    "| FXE | Euro |\n",
    "| VNQ | Real State |\n",
    "| IVV | SPY |\n",
    "| VWO | Emerging Markets |\n"
   ]
  },
  {
   "cell_type": "code",
   "execution_count": 10,
   "metadata": {},
   "outputs": [
    {
     "data": {
      "text/html": [
       "<div>\n",
       "<style scoped>\n",
       "    .dataframe tbody tr th:only-of-type {\n",
       "        vertical-align: middle;\n",
       "    }\n",
       "\n",
       "    .dataframe tbody tr th {\n",
       "        vertical-align: top;\n",
       "    }\n",
       "\n",
       "    .dataframe thead th {\n",
       "        text-align: right;\n",
       "    }\n",
       "</style>\n",
       "<table border=\"1\" class=\"dataframe\">\n",
       "  <thead>\n",
       "    <tr style=\"text-align: right;\">\n",
       "      <th></th>\n",
       "      <th>Bonds</th>\n",
       "      <th>Gold</th>\n",
       "      <th>Euro</th>\n",
       "      <th>Real State</th>\n",
       "      <th>SPY</th>\n",
       "      <th>Emerging Markets</th>\n",
       "    </tr>\n",
       "    <tr>\n",
       "      <th>Date</th>\n",
       "      <th></th>\n",
       "      <th></th>\n",
       "      <th></th>\n",
       "      <th></th>\n",
       "      <th></th>\n",
       "      <th></th>\n",
       "    </tr>\n",
       "  </thead>\n",
       "  <tbody>\n",
       "    <tr>\n",
       "      <th>2005-12-13</th>\n",
       "      <td>0.003810</td>\n",
       "      <td>-0.017314</td>\n",
       "      <td>-0.000084</td>\n",
       "      <td>0.004867</td>\n",
       "      <td>0.006322</td>\n",
       "      <td>0.006618</td>\n",
       "    </tr>\n",
       "    <tr>\n",
       "      <th>2005-12-14</th>\n",
       "      <td>0.002697</td>\n",
       "      <td>-0.025169</td>\n",
       "      <td>0.004601</td>\n",
       "      <td>0.001937</td>\n",
       "      <td>0.004476</td>\n",
       "      <td>-0.003945</td>\n",
       "    </tr>\n",
       "    <tr>\n",
       "      <th>2005-12-15</th>\n",
       "      <td>-0.000997</td>\n",
       "      <td>-0.002185</td>\n",
       "      <td>-0.002831</td>\n",
       "      <td>-0.007573</td>\n",
       "      <td>-0.003831</td>\n",
       "      <td>-0.002805</td>\n",
       "    </tr>\n",
       "    <tr>\n",
       "      <th>2005-12-16</th>\n",
       "      <td>-0.000100</td>\n",
       "      <td>-0.002986</td>\n",
       "      <td>0.003841</td>\n",
       "      <td>0.003572</td>\n",
       "      <td>-0.002512</td>\n",
       "      <td>-0.003806</td>\n",
       "    </tr>\n",
       "    <tr>\n",
       "      <th>2005-12-19</th>\n",
       "      <td>0.000798</td>\n",
       "      <td>0.002595</td>\n",
       "      <td>-0.000666</td>\n",
       "      <td>-0.013105</td>\n",
       "      <td>-0.005743</td>\n",
       "      <td>0.002492</td>\n",
       "    </tr>\n",
       "    <tr>\n",
       "      <th>...</th>\n",
       "      <td>...</td>\n",
       "      <td>...</td>\n",
       "      <td>...</td>\n",
       "      <td>...</td>\n",
       "      <td>...</td>\n",
       "      <td>...</td>\n",
       "    </tr>\n",
       "    <tr>\n",
       "      <th>2021-12-27</th>\n",
       "      <td>0.000525</td>\n",
       "      <td>0.002367</td>\n",
       "      <td>-0.000759</td>\n",
       "      <td>0.016976</td>\n",
       "      <td>0.014324</td>\n",
       "      <td>0.003253</td>\n",
       "    </tr>\n",
       "    <tr>\n",
       "      <th>2021-12-28</th>\n",
       "      <td>-0.000438</td>\n",
       "      <td>-0.004310</td>\n",
       "      <td>-0.001234</td>\n",
       "      <td>0.003684</td>\n",
       "      <td>-0.000772</td>\n",
       "      <td>-0.003446</td>\n",
       "    </tr>\n",
       "    <tr>\n",
       "      <th>2021-12-29</th>\n",
       "      <td>-0.002977</td>\n",
       "      <td>-0.000297</td>\n",
       "      <td>0.003042</td>\n",
       "      <td>0.006730</td>\n",
       "      <td>0.001044</td>\n",
       "      <td>-0.004271</td>\n",
       "    </tr>\n",
       "    <tr>\n",
       "      <th>2021-12-30</th>\n",
       "      <td>0.002195</td>\n",
       "      <td>0.007177</td>\n",
       "      <td>-0.002654</td>\n",
       "      <td>0.004341</td>\n",
       "      <td>-0.002815</td>\n",
       "      <td>0.012868</td>\n",
       "    </tr>\n",
       "    <tr>\n",
       "      <th>2021-12-31</th>\n",
       "      <td>0.000832</td>\n",
       "      <td>0.004770</td>\n",
       "      <td>0.005512</td>\n",
       "      <td>0.005186</td>\n",
       "      <td>-0.000836</td>\n",
       "      <td>0.001512</td>\n",
       "    </tr>\n",
       "  </tbody>\n",
       "</table>\n",
       "<p>4041 rows × 6 columns</p>\n",
       "</div>"
      ],
      "text/plain": [
       "               Bonds      Gold      Euro  Real State       SPY  \\\n",
       "Date                                                             \n",
       "2005-12-13  0.003810 -0.017314 -0.000084    0.004867  0.006322   \n",
       "2005-12-14  0.002697 -0.025169  0.004601    0.001937  0.004476   \n",
       "2005-12-15 -0.000997 -0.002185 -0.002831   -0.007573 -0.003831   \n",
       "2005-12-16 -0.000100 -0.002986  0.003841    0.003572 -0.002512   \n",
       "2005-12-19  0.000798  0.002595 -0.000666   -0.013105 -0.005743   \n",
       "...              ...       ...       ...         ...       ...   \n",
       "2021-12-27  0.000525  0.002367 -0.000759    0.016976  0.014324   \n",
       "2021-12-28 -0.000438 -0.004310 -0.001234    0.003684 -0.000772   \n",
       "2021-12-29 -0.002977 -0.000297  0.003042    0.006730  0.001044   \n",
       "2021-12-30  0.002195  0.007177 -0.002654    0.004341 -0.002815   \n",
       "2021-12-31  0.000832  0.004770  0.005512    0.005186 -0.000836   \n",
       "\n",
       "            Emerging Markets  \n",
       "Date                          \n",
       "2005-12-13          0.006618  \n",
       "2005-12-14         -0.003945  \n",
       "2005-12-15         -0.002805  \n",
       "2005-12-16         -0.003806  \n",
       "2005-12-19          0.002492  \n",
       "...                      ...  \n",
       "2021-12-27          0.003253  \n",
       "2021-12-28         -0.003446  \n",
       "2021-12-29         -0.004271  \n",
       "2021-12-30          0.012868  \n",
       "2021-12-31          0.001512  \n",
       "\n",
       "[4041 rows x 6 columns]"
      ]
     },
     "execution_count": 10,
     "metadata": {},
     "output_type": "execute_result"
    }
   ],
   "source": [
    "#Defining two lists, one with the tickers and the other with class name\n",
    "tickers = [\"AGG\", 'GLD', \"FXE\",'VNQ', 'IVV', 'VWO']\n",
    "class_ = [\"Bonds\", 'Gold', 'Euro', 'Real State', 'SPY', \"Emerging Markets\"]\n",
    "\n",
    "#We will save the returns in this list\n",
    "hist_returns = []\n",
    "\n",
    "for asset in tickers:\n",
    "    #We save the time series prices here (the maximum information available) \n",
    "    security = yf.Ticker(asset).history(period=\"max\")\n",
    "    #We calculate the returns\n",
    "    returns = security['Close'].pct_change().dropna()\n",
    "    #We save the results in the list\n",
    "    hist_returns.append(returns)\n",
    "\n",
    "#We transform the list with returns in a data frame object\n",
    "data = pd.concat(hist_returns, 1)\n",
    "#We get only the dates where all etfs were available\n",
    "data = data.dropna()\n",
    "#We nominated the columns\n",
    "data.columns = class_\n",
    "\n",
    "data"
   ]
  },
  {
   "cell_type": "markdown",
   "metadata": {},
   "source": [
    "### Plotting the past performance"
   ]
  },
  {
   "cell_type": "code",
   "execution_count": 61,
   "metadata": {},
   "outputs": [
    {
     "name": "stderr",
     "output_type": "stream",
     "text": [
      "<ipython-input-61-92352dc0d0fe>:6: UserWarning: FixedFormatter should only be used together with FixedLocator\n",
      "  yaxis = p.set_yticklabels(['{:,.2%}'.format(x) for x in vals])\n"
     ]
    },
    {
     "data": {
      "image/png": "[encoded data removed]",
      "text/plain": [
       "<Figure size 432x288 with 1 Axes>"
      ]
     },
     "metadata": {
      "needs_background": "light"
     },
     "output_type": "display_data"
    }
   ],
   "source": [
    "#We make a cumulative product to calculate the acumulated return\n",
    "acc_returns = (data+1).cumprod()-1\n",
    "\n",
    "p = acc_returns.plot(title = \"Historical Performance of given assets\")\n",
    "vals = p.get_yticks()\n",
    "yaxis = p.set_yticklabels(['{:,.2%}'.format(x) for x in vals])"
   ]
  },
  {
   "cell_type": "markdown",
   "metadata": {},
   "source": [
    "### Computing return\n",
    "\n",
    "There are many ways to do that, but in order to increase computational efficiency, we will get the ln(1 + r), where r are the returns, sum them, and convert them back again. </br>\n",
    "This uses the log properties."
   ]
  },
  {
   "cell_type": "code",
   "execution_count": 29,
   "metadata": {},
   "outputs": [
    {
     "data": {
      "text/plain": [
       "Bonds               0.885397\n",
       "Gold                2.246004\n",
       "Euro               -0.029684\n",
       "Real State          2.820356\n",
       "SPY                 4.184613\n",
       "Emerging Markets    1.511730\n",
       "dtype: float64"
      ]
     },
     "execution_count": 29,
     "metadata": {},
     "output_type": "execute_result"
    }
   ],
   "source": [
    "def cum_return(r):\n",
    "    '''\n",
    "    The function receives a time series returns and convert them into ln(1 + r),\n",
    "    sum them, and then exponentiate back.\n",
    "    '''\n",
    "    cumReturn = np.expm1(np.log1p(r).sum())\n",
    "    return cumReturn\n",
    "\n",
    "data.apply(lambda x : cum_return(x))"
   ]
  },
  {
   "cell_type": "markdown",
   "metadata": {},
   "source": [
    "### Computting the Annualized Return\n",
    "\n",
    "This facilitates the comparisson between returns in differente time periods."
   ]
  },
  {
   "cell_type": "code",
   "execution_count": 57,
   "metadata": {},
   "outputs": [
    {
     "name": "stdout",
     "output_type": "stream",
     "text": [
      "Annualized Return 2006-2022\n"
     ]
    },
    {
     "data": {
      "text/plain": [
       "Bonds               0.058950\n",
       "Gold                0.112211\n",
       "Euro               -0.002718\n",
       "Real State          0.128699\n",
       "SPY                 0.160262\n",
       "Emerging Markets    0.086744\n",
       "dtype: float64"
      ]
     },
     "execution_count": 57,
     "metadata": {},
     "output_type": "execute_result"
    }
   ],
   "source": [
    "def ann_return(r):\n",
    "    '''\n",
    "    Calculates the annualized return, based in daily returns\n",
    "    '''\n",
    "    \n",
    "    acumulated_retun = cum_return(r) #Using the function that we declared before\n",
    "    n_periods = len(r)\n",
    "    annualized_return = (acumulated_retun + 1) ** (365 / n_periods) - 1 \n",
    "    return annualized_return\n",
    "\n",
    "print(\"Annualized Return 2006-2022\")\n",
    "data.apply(lambda x : ann_return(x))"
   ]
  },
  {
   "cell_type": "markdown",
   "metadata": {},
   "source": [
    "### Computing Volatility\n",
    "\n",
    "It is the most common risk metric in the financial market, it assumes that the returns are normally distributed."
   ]
  },
  {
   "cell_type": "code",
   "execution_count": 59,
   "metadata": {},
   "outputs": [
    {
     "name": "stdout",
     "output_type": "stream",
     "text": [
      "Annualized Vol 2006-2022\n"
     ]
    },
    {
     "data": {
      "text/plain": [
       "Bonds               0.059624\n",
       "Gold                0.220400\n",
       "Euro                0.110032\n",
       "Real State          0.374613\n",
       "SPY                 0.235499\n",
       "Emerging Markets    0.340778\n",
       "dtype: float64"
      ]
     },
     "execution_count": 59,
     "metadata": {},
     "output_type": "execute_result"
    }
   ],
   "source": [
    "def ann_vol(r):\n",
    "    '''\n",
    "    It receives a series of returns and compute the annualized vollatility based in daily returns\n",
    "    '''\n",
    "    return r.std()*(365**0.5)\n",
    "\n",
    "print(\"Annualized Vol 2006-2022\")\n",
    "data.apply(lambda x : ann_vol(x))"
   ]
  },
  {
   "cell_type": "markdown",
   "metadata": {},
   "source": [
    "Let's stop here for today. There is a lot more to come yet, I hope you had enjoyed."
   ]
  },
  {
   "cell_type": "code",
   "execution_count": null,
   "metadata": {},
   "outputs": [],
   "source": []
  }
 ],
 "metadata": {
  "kernelspec": {
   "display_name": "Python 3",
   "language": "python",
   "name": "python3"
  },
  "language_info": {
   "codemirror_mode": {
    "name": "ipython",
    "version": 3
   },
   "file_extension": ".py",
   "mimetype": "text/x-python",
   "name": "python",
   "nbconvert_exporter": "python",
   "pygments_lexer": "ipython3",
   "version": "3.8.5"
  }
 },
 "nbformat": 4,
 "nbformat_minor": 4
}
