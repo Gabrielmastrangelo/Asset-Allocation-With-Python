{
 "cells": [
  {
   "cell_type": "markdown",
   "metadata": {},
   "source": [
    "# Computing Markowitz Efficient Frontier for S&P 500 proxy\n",
    "\n",
    "### Goals for the notebook\n",
    "\n",
    "+ Get the composition of the S&P 500 index by using the IVV ETF as a proxy\n",
    "+ Compute indicators for each stock in the index\n",
    "+ Plot the Efficient Frontier for these assets\n",
    "+ Analyse where in the Frontier is the IVV etf\n",
    "+ Analyse where in the Frontier is the equally balanced portfolio\n",
    "\n",
    "## Libraries"
   ]
  },
  {
   "cell_type": "code",
   "execution_count": null,
   "metadata": {},
   "outputs": [],
   "source": []
  }
 ],
 "metadata": {
  "kernelspec": {
   "display_name": "Python 3",
   "language": "python",
   "name": "python3"
  },
  "language_info": {
   "codemirror_mode": {
    "name": "ipython",
    "version": 3
   },
   "file_extension": ".py",
   "mimetype": "text/x-python",
   "name": "python",
   "nbconvert_exporter": "python",
   "pygments_lexer": "ipython3",
   "version": "3.8.5"
  }
 },
 "nbformat": 4,
 "nbformat_minor": 4
}
